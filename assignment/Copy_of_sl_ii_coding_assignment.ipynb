{
  "nbformat": 4,
  "nbformat_minor": 0,
  "metadata": {
    "colab": {
      "provenance": []
    },
    "kernelspec": {
      "name": "python3",
      "display_name": "Python 3"
    },
    "language_info": {
      "name": "python"
    }
  },
  "cells": [
    {
      "cell_type": "markdown",
      "metadata": {
        "id": "s-xUnEDfRzG4"
      },
      "source": [
        "## We are going to explore the MNIST digit dataset for one class and\n",
        "\n",
        "---\n",
        "\n",
        "multiclass classification problem.\n",
        "Feel free to experiment and perform comparative analysis with classifiers that we learned in the foundational material, namely :\n",
        "\n",
        "*   SVM\n",
        "*   Decision Trees\n",
        "*   Random Forest\n",
        "*   KNN\n",
        "...\n",
        "\n"
      ]
    },
    {
      "cell_type": "markdown",
      "metadata": {
        "id": "Ah4aXcrTYmmH"
      },
      "source": [
        "Let's set up some basic library imports and solutions directory"
      ]
    },
    {
      "cell_type": "code",
      "metadata": {
        "id": "nCykdENTR6Oe"
      },
      "source": [
        "#Enter your code here\n",
        "from sklearn.tree import DecisionTreeClassifier\n",
        "from sklearn.model_selection import train_test_split\n",
        "import numpy as np\n",
        "import matplotlib.pyplot as plt"
      ],
      "execution_count": null,
      "outputs": []
    },
    {
      "cell_type": "markdown",
      "metadata": {
        "id": "IRtdaFdjZsdT"
      },
      "source": [
        "Let's import the dataset we are going to work on."
      ]
    },
    {
      "cell_type": "code",
      "metadata": {
        "id": "TedUAUQMZwQV",
        "outputId": "46038687-ca03-47ea-d146-1a8238a004fc",
        "colab": {
          "base_uri": "https://localhost:8080/"
        }
      },
      "source": [
        "from sklearn.datasets import fetch_openml\n",
        "mnist = fetch_openml('mnist_784', version=1, as_frame=False)\n",
        "mnist.keys()"
      ],
      "execution_count": null,
      "outputs": [
        {
          "output_type": "stream",
          "name": "stderr",
          "text": [
            "/usr/local/lib/python3.10/dist-packages/sklearn/datasets/_openml.py:968: FutureWarning: The default value of `parser` will change from `'liac-arff'` to `'auto'` in 1.4. You can set `parser='auto'` to silence this warning. Therefore, an `ImportError` will be raised from 1.4 if the dataset is dense and pandas is not installed. Note that the pandas parser may return different data types. See the Notes Section in fetch_openml's API doc for details.\n",
            "  warn(\n"
          ]
        },
        {
          "output_type": "execute_result",
          "data": {
            "text/plain": [
              "dict_keys(['data', 'target', 'frame', 'categories', 'feature_names', 'target_names', 'DESCR', 'details', 'url'])"
            ]
          },
          "metadata": {},
          "execution_count": 2
        }
      ]
    },
    {
      "cell_type": "markdown",
      "metadata": {
        "id": "U6OuZ5O9R6ch"
      },
      "source": [
        "Time to explore the dataset.\n",
        "\n",
        "\n",
        "1.   Fetch the rows to analyse shape and size of the dataset.\n",
        "2.   Try to plot a digit from the dataset for observation.\n",
        "3.   Let's extend it and print first 100 rows of the dataset for observation.\n",
        "\n",
        "\n",
        "\n",
        "\n"
      ]
    },
    {
      "cell_type": "code",
      "metadata": {
        "id": "-cCJ4Q-cZ1KC",
        "outputId": "9e24c933-61b9-4208-ea3c-1b9a8593ee78",
        "colab": {
          "base_uri": "https://localhost:8080/"
        }
      },
      "source": [
        "X, y = mnist[\"data\"], mnist[\"target\"]\n",
        "X.shape"
      ],
      "execution_count": null,
      "outputs": [
        {
          "output_type": "execute_result",
          "data": {
            "text/plain": [
              "(70000, 784)"
            ]
          },
          "metadata": {},
          "execution_count": 3
        }
      ]
    },
    {
      "cell_type": "code",
      "metadata": {
        "id": "aSYc-bCDMilM",
        "outputId": "b6cfa1de-6b65-4575-d415-a616efa376a5",
        "colab": {
          "base_uri": "https://localhost:8080/",
          "height": 573
        }
      },
      "source": [
        "#Enter your code here\n",
        "idx = 5\n",
        "plt.imshow(np.reshape(X[idx], (28, 28)))\n",
        "print(y[idx])\n",
        "print(X[0:100])"
      ],
      "execution_count": null,
      "outputs": [
        {
          "output_type": "stream",
          "name": "stdout",
          "text": [
            "2\n",
            "[[0. 0. 0. ... 0. 0. 0.]\n",
            " [0. 0. 0. ... 0. 0. 0.]\n",
            " [0. 0. 0. ... 0. 0. 0.]\n",
            " ...\n",
            " [0. 0. 0. ... 0. 0. 0.]\n",
            " [0. 0. 0. ... 0. 0. 0.]\n",
            " [0. 0. 0. ... 0. 0. 0.]]\n"
          ]
        },
        {
          "output_type": "display_data",
          "data": {
            "text/plain": [
              "<Figure size 640x480 with 1 Axes>"
            ],
            "image/png": "[encoded data removed]"
          },
          "metadata": {}
        }
      ]
    },
    {
      "cell_type": "markdown",
      "metadata": {
        "id": "OfQ1TUNRMnTl"
      },
      "source": [
        "Write code to split the data into train and test."
      ]
    },
    {
      "cell_type": "code",
      "metadata": {
        "id": "i-kGr91ePk5S"
      },
      "source": [
        "train, test = train_test_split((X, y), test_size=0.2)"
      ],
      "execution_count": null,
      "outputs": []
    },
    {
      "cell_type": "code",
      "source": [
        "test[0].shape"
      ],
      "metadata": {
        "id": "3Dt70jkTJhcX",
        "outputId": "58936dd7-6c14-4348-fcb1-9133b047cdea",
        "colab": {
          "base_uri": "https://localhost:8080/"
        }
      },
      "execution_count": null,
      "outputs": [
        {
          "output_type": "execute_result",
          "data": {
            "text/plain": [
              "(70000, 784)"
            ]
          },
          "metadata": {},
          "execution_count": 25
        }
      ]
    },
    {
      "cell_type": "markdown",
      "metadata": {
        "id": "SZykLoKAPoYs"
      },
      "source": [
        "Get a summary of all the features that are present in the dataset"
      ]
    },
    {
      "cell_type": "code",
      "metadata": {
        "id": "oYCX85B9Punx"
      },
      "source": [
        "train."
      ],
      "execution_count": null,
      "outputs": []
    },
    {
      "cell_type": "markdown",
      "metadata": {
        "id": "jXr5NiI8Pu2_"
      },
      "source": [
        "Finally, let's train the one class classification model for digit == 5 and come up with the following for accuracy estimation.\n",
        "\n",
        "*   cross-validation\n",
        "*   confusion matrix\n",
        "*   precision\n",
        "*   recall\n",
        "*   f1-score\n",
        "*   roc curve\n",
        "\n",
        "\n",
        "\n",
        "\n",
        "\n",
        "\n"
      ]
    },
    {
      "cell_type": "code",
      "metadata": {
        "id": "Q6jBLyg5YMQc"
      },
      "source": [
        "y_train_5 = (y_train == 5)\n",
        "y_test_5 = (y_test == 5)\n",
        "..."
      ],
      "execution_count": null,
      "outputs": []
    },
    {
      "cell_type": "markdown",
      "metadata": {
        "id": "58Y2uMgZYMvU"
      },
      "source": [
        "Lets expand it to multiclass classification setup for all 10 digits and come up with the following for accuracy estimation.\n",
        "\n",
        "*   cross-validation\n",
        "*   confusion matrix\n",
        "*   precision\n",
        "*   recall\n",
        "*   f1-score\n",
        "*   roc curve\n"
      ]
    },
    {
      "cell_type": "code",
      "metadata": {
        "id": "0zTINJIKYUij"
      },
      "source": [
        "#Enter your code here"
      ],
      "execution_count": null,
      "outputs": []
    }
  ]
}